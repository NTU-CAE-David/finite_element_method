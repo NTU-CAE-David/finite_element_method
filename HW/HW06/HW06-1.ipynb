{
 "cells": [
  {
   "cell_type": "code",
   "execution_count": 75,
   "metadata": {},
   "outputs": [
    {
     "name": "stdout",
     "output_type": "stream",
     "text": [
      "Solution: x1 = 2.2337745328, x2 = -1.4784618576\n"
     ]
    }
   ],
   "source": [
    "from sympy import symbols, diff\n",
    "import numpy as np\n",
    "\n",
    "# Define the symbols\n",
    "x1, x2 = symbols('x1 x2')\n",
    "\n",
    "# Define the equations\n",
    "eq1 = x1 * (x1**2 + x2**2 + 1)**(1/3) - 9/2\n",
    "eq2 = x2 * (x1**2 + x2**2 + 1)**(1/4) + 5/2\n",
    "\n",
    "# Define the Jacobian matrix\n",
    "J = [[diff(eq1, x1), diff(eq1, x2)],\n",
    "     [diff(eq2, x1), diff(eq2, x2)]]\n",
    "\n",
    "# Initial guess\n",
    "x1_val = 0  # Initial guess for x1\n",
    "x2_val = 0  # Initial guess for x2\n",
    "delta_x = [0, 0]\n",
    "\n",
    "# Newton-Raphson iteration\n",
    "max_iterations = 20\n",
    "tolerance = 1e-10\n",
    "for _ in range(max_iterations):\n",
    "    \n",
    "    # Update the current point\n",
    "    x1_val += delta_x[0]\n",
    "    x2_val += delta_x[1]\n",
    "\n",
    "    # Evaluate the equations and Jacobian at the current point\n",
    "    f_values = np.array([\n",
    "        eq1.subs({x1: x1_val, x2: x2_val}).evalf(),\n",
    "        eq2.subs({x1: x1_val, x2: x2_val}).evalf()\n",
    "    ], dtype=float)\n",
    "\n",
    "    jacobian = np.array([\n",
    "        [j_val.subs({x1: x1_val, x2: x2_val}).evalf() for j_val in j_row] for j_row in J\n",
    "    ], dtype=float)\n",
    "\n",
    "    # Solve equations individually to get delta_x\n",
    "    # delta_x = np.linalg.solve(jacobian, -f_values)\n",
    "    delta_x = np.dot(np.linalg.pinv(jacobian), -f_values)\n",
    "\n",
    "    # Check for convergence\n",
    "    if np.max(np.abs(delta_x)) < tolerance:\n",
    "        break\n",
    "\n",
    "print(f\"Solution: x1 = {x1_val:.10f}, x2 = {x2_val:.10f}\")\n"
   ]
  }
 ],
 "metadata": {
  "kernelspec": {
   "display_name": "base",
   "language": "python",
   "name": "python3"
  },
  "language_info": {
   "codemirror_mode": {
    "name": "ipython",
    "version": 3
   },
   "file_extension": ".py",
   "mimetype": "text/x-python",
   "name": "python",
   "nbconvert_exporter": "python",
   "pygments_lexer": "ipython3",
   "version": "3.9.12"
  }
 },
 "nbformat": 4,
 "nbformat_minor": 2
}
